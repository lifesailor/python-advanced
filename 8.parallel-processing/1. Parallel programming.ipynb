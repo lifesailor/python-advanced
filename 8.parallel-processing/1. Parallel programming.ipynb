{
 "cells": [
  {
   "cell_type": "code",
   "execution_count": 3,
   "metadata": {},
   "outputs": [],
   "source": [
    "import time\n",
    "import requests\n",
    "from contextlib import contextmanager"
   ]
  },
  {
   "cell_type": "markdown",
   "metadata": {},
   "source": [
    "# Context manager"
   ]
  },
  {
   "cell_type": "markdown",
   "metadata": {},
   "source": [
    "- with가 context manager를 진행한다."
   ]
  },
  {
   "cell_type": "code",
   "execution_count": 4,
   "metadata": {},
   "outputs": [],
   "source": [
    "@contextmanager\n",
    "def timeit():\n",
    "    start_time = int(round(time.time() * 1000))\n",
    "    yield\n",
    "    end_time = int(round(time.time() * 1000))\n",
    "    elapsed = end_time - start_time\n",
    "    print(\"Cook took %d ms to run.\" % elapsed)"
   ]
  },
  {
   "cell_type": "code",
   "execution_count": 5,
   "metadata": {},
   "outputs": [],
   "source": [
    "def write_file(filename, content):\n",
    "    print(\"Starting writing: %s\")\n",
    "    print(\"File name is %s\" % filename)\n",
    "    time.sleep(3)\n",
    "\n",
    "    with open(filename, 'w') as f:\n",
    "        f.write(content)"
   ]
  },
  {
   "cell_type": "code",
   "execution_count": 6,
   "metadata": {},
   "outputs": [],
   "source": [
    "files = ['hello.txt', 'world.txt']\n",
    "content = \"Hello world!\""
   ]
  },
  {
   "cell_type": "code",
   "execution_count": 7,
   "metadata": {},
   "outputs": [
    {
     "name": "stdout",
     "output_type": "stream",
     "text": [
      "Starting writing: %s\n",
      "File name is hello.txt\n",
      "Starting writing: %s\n",
      "File name is world.txt\n",
      "Cook took 6003 ms to run.\n"
     ]
    }
   ],
   "source": [
    "with timeit():\n",
    "    for filename in files:\n",
    "        write_file(filename, content)"
   ]
  },
  {
   "cell_type": "markdown",
   "metadata": {},
   "source": [
    "# 1. Multi-threading"
   ]
  },
  {
   "cell_type": "code",
   "execution_count": 8,
   "metadata": {},
   "outputs": [],
   "source": [
    "import threading"
   ]
  },
  {
   "cell_type": "code",
   "execution_count": 9,
   "metadata": {},
   "outputs": [
    {
     "name": "stdout",
     "output_type": "stream",
     "text": [
      "Starting writing: %sStarting writing: %s\n",
      "File name is world.txt\n",
      "\n",
      "File name is hello.txt\n",
      "Done\n",
      "Cook took 3004 ms to run.\n"
     ]
    }
   ],
   "source": [
    "with timeit():\n",
    "    threads = []\n",
    "    \n",
    "    for filename in files:\n",
    " \n",
    "        # Create workers\n",
    "        t = threading.Thread(target=write_file, args=(filename, content))\n",
    "        \n",
    "        # Go\n",
    "        t.start()\n",
    "        \n",
    "        # list of threads - sometimes need communication between workers.\n",
    "        threads.append(t)\n",
    "        \n",
    "    for t in threads:\n",
    "        # Wait till it finishes\n",
    "        t.join()\n",
    "    print(\"Done\")"
   ]
  },
  {
   "cell_type": "markdown",
   "metadata": {},
   "source": [
    "# 2. Synchronization Issues and Locks"
   ]
  },
  {
   "cell_type": "code",
   "execution_count": 9,
   "metadata": {},
   "outputs": [],
   "source": [
    "import time\n",
    "import threading"
   ]
  },
  {
   "cell_type": "code",
   "execution_count": 10,
   "metadata": {},
   "outputs": [],
   "source": [
    "num_threads = 5\n",
    "iterations_in_one_thread = 100\n",
    "counter = 0"
   ]
  },
  {
   "cell_type": "code",
   "execution_count": 11,
   "metadata": {},
   "outputs": [],
   "source": [
    "def f():\n",
    "    global counter\n",
    "    \n",
    "    for i in range(iterations_in_one_thread):\n",
    "        v = counter\n",
    "        time.sleep(0.000000001)\n",
    "        v += 1\n",
    "        counter = v"
   ]
  },
  {
   "cell_type": "code",
   "execution_count": 12,
   "metadata": {},
   "outputs": [],
   "source": [
    "def run_experiment():\n",
    "    global counter \n",
    "    \n",
    "    counter = 0\n",
    "    threads = []\n",
    "    \n",
    "    for i in range(num_threads):\n",
    "        t = threading.Thread(target=f)\n",
    "        threads.append(t)\n",
    "        t.start()\n",
    "    \n",
    "    for i in threads:\n",
    "        i.join()\n",
    "    \n",
    "    print(\"Caculated value: %d\" % counter)\n",
    "    print(\"Expected value: %d\" % (num_threads * iterations_in_one_thread))"
   ]
  },
  {
   "cell_type": "code",
   "execution_count": 13,
   "metadata": {},
   "outputs": [
    {
     "name": "stdout",
     "output_type": "stream",
     "text": [
      "Caculated value: 102\n",
      "Expected value: 500\n"
     ]
    }
   ],
   "source": [
    "run_experiment()"
   ]
  },
  {
   "cell_type": "markdown",
   "metadata": {},
   "source": [
    "### 여기에서 에러가 나타난다.\n",
    "\n",
    "- 각 thread가 자원을 공유하고자 한다."
   ]
  },
  {
   "cell_type": "code",
   "execution_count": 14,
   "metadata": {},
   "outputs": [
    {
     "name": "stdout",
     "output_type": "stream",
     "text": [
      "2\n"
     ]
    }
   ],
   "source": [
    "# Expected\n",
    "counter = 0\n",
    "\n",
    "v1 = counter\n",
    "v1 += 1\n",
    "counter = v1\n",
    "\n",
    "v2 = counter\n",
    "v2 += 1\n",
    "counter = v2\n",
    "\n",
    "print(counter)"
   ]
  },
  {
   "cell_type": "code",
   "execution_count": 15,
   "metadata": {},
   "outputs": [
    {
     "name": "stdout",
     "output_type": "stream",
     "text": [
      "1\n"
     ]
    }
   ],
   "source": [
    "# Really happens\n",
    "counter = 0\n",
    "\n",
    "# thread 1 start\n",
    "v1 = counter\n",
    "v1 += 1\n",
    "\n",
    "# thread 2 start\n",
    "v2 = counter\n",
    "v2 += 1\n",
    "counter = v2\n",
    "\n",
    "# back to thread 1\n",
    "counter = v1\n",
    "print(counter)"
   ]
  },
  {
   "cell_type": "markdown",
   "metadata": {},
   "source": [
    "### Syncronization"
   ]
  },
  {
   "cell_type": "code",
   "execution_count": 16,
   "metadata": {},
   "outputs": [],
   "source": [
    "num_threads = 5\n",
    "iterations_in_one_thread = 100\n",
    "counter = 0"
   ]
  },
  {
   "cell_type": "code",
   "execution_count": 17,
   "metadata": {},
   "outputs": [],
   "source": [
    "lock = threading.Lock()"
   ]
  },
  {
   "cell_type": "code",
   "execution_count": 18,
   "metadata": {},
   "outputs": [],
   "source": [
    "# lock을 해제 하는 것을 잊지 말자.\n",
    "def f():\n",
    "    global counter\n",
    "    \n",
    "    for i in range(iterations_in_one_thread):\n",
    "        lock.acquire() # begin critical part\n",
    "        v = counter\n",
    "        time.sleep(0.000000001)\n",
    "        v += 1\n",
    "        counter = v\n",
    "        lock.release() # end critical part"
   ]
  },
  {
   "cell_type": "markdown",
   "metadata": {},
   "source": [
    "해제를 하지 않으면 다른 thread가 작업을 할 수 없다!"
   ]
  },
  {
   "cell_type": "code",
   "execution_count": 19,
   "metadata": {},
   "outputs": [
    {
     "name": "stdout",
     "output_type": "stream",
     "text": [
      "Caculated value: 500\n",
      "Expected value: 500\n"
     ]
    }
   ],
   "source": [
    "run_experiment()"
   ]
  },
  {
   "cell_type": "markdown",
   "metadata": {},
   "source": [
    "### Context manager로 해결할 수 있다."
   ]
  },
  {
   "cell_type": "code",
   "execution_count": 21,
   "metadata": {},
   "outputs": [],
   "source": [
    "def f():\n",
    "    global counter, lock\n",
    "    \n",
    "    for i in range(iterations_in_one_thread):\n",
    "        with lock:\n",
    "            # cirital section\n",
    "            v = counter\n",
    "            time.sleep(0.000000001)\n",
    "            v += 1\n",
    "            counter = v"
   ]
  },
  {
   "cell_type": "code",
   "execution_count": 22,
   "metadata": {},
   "outputs": [
    {
     "name": "stdout",
     "output_type": "stream",
     "text": [
      "Caculated value: 500\n",
      "Expected value: 500\n"
     ]
    }
   ],
   "source": [
    "run_experiment()"
   ]
  },
  {
   "cell_type": "markdown",
   "metadata": {},
   "source": [
    "- You have to figure out which part you don't want breaks in!\n"
   ]
  }
 ],
 "metadata": {
  "kernelspec": {
   "display_name": "Python 3",
   "language": "python",
   "name": "python3"
  },
  "language_info": {
   "codemirror_mode": {
    "name": "ipython",
    "version": 3
   },
   "file_extension": ".py",
   "mimetype": "text/x-python",
   "name": "python",
   "nbconvert_exporter": "python",
   "pygments_lexer": "ipython3",
   "version": "3.6.7"
  }
 },
 "nbformat": 4,
 "nbformat_minor": 2
}
