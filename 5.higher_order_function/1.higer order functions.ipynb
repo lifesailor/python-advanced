{
 "cells": [
  {
   "cell_type": "markdown",
   "metadata": {},
   "source": [
    "# 1. Higher order functions"
   ]
  },
  {
   "cell_type": "code",
   "execution_count": 2,
   "metadata": {},
   "outputs": [],
   "source": [
    "x = 24"
   ]
  },
  {
   "cell_type": "code",
   "execution_count": 3,
   "metadata": {},
   "outputs": [],
   "source": [
    "def square(x):\n",
    "    return x * x"
   ]
  },
  {
   "cell_type": "code",
   "execution_count": 4,
   "metadata": {},
   "outputs": [
    {
     "data": {
      "text/plain": [
       "<function __main__.square>"
      ]
     },
     "execution_count": 4,
     "metadata": {},
     "output_type": "execute_result"
    }
   ],
   "source": [
    "square"
   ]
  },
  {
   "cell_type": "code",
   "execution_count": 9,
   "metadata": {},
   "outputs": [
    {
     "data": {
      "text/plain": [
       "36"
      ]
     },
     "execution_count": 9,
     "metadata": {},
     "output_type": "execute_result"
    }
   ],
   "source": [
    "f = square\n",
    "f(6)"
   ]
  },
  {
   "cell_type": "markdown",
   "metadata": {},
   "source": [
    "- f와 square은 같이 square 함수를 가리킨다."
   ]
  },
  {
   "cell_type": "markdown",
   "metadata": {},
   "source": [
    "# 2. Example"
   ]
  },
  {
   "cell_type": "code",
   "execution_count": 17,
   "metadata": {},
   "outputs": [],
   "source": [
    "def summation(low, high):\n",
    "    total = 0\n",
    "    for i in range(low, high+1):\n",
    "        val = i ** 2\n",
    "        total += val\n",
    "    return total"
   ]
  },
  {
   "cell_type": "code",
   "execution_count": 21,
   "metadata": {},
   "outputs": [],
   "source": [
    "def summation(low, high):\n",
    "    total = 0\n",
    "    for i in range(low, high+1):\n",
    "        val = i ** 3\n",
    "        total += val\n",
    "    return total"
   ]
  },
  {
   "cell_type": "code",
   "execution_count": 20,
   "metadata": {},
   "outputs": [],
   "source": [
    "def square(x):\n",
    "    return x ** 2\n",
    "\n",
    "def cube(x):\n",
    "    return x ** 3"
   ]
  },
  {
   "cell_type": "code",
   "execution_count": 25,
   "metadata": {},
   "outputs": [],
   "source": [
    "def summation(low, high, fn):\n",
    "    total = 0\n",
    "    for i in range(low, high+1):\n",
    "        total += fn(i)\n",
    "    return total"
   ]
  },
  {
   "cell_type": "markdown",
   "metadata": {},
   "source": [
    "### Lambda"
   ]
  },
  {
   "cell_type": "code",
   "execution_count": 32,
   "metadata": {},
   "outputs": [
    {
     "data": {
      "text/plain": [
       "36"
      ]
     },
     "execution_count": 32,
     "metadata": {},
     "output_type": "execute_result"
    }
   ],
   "source": [
    "summation(1, 3, lambda x: x ** 3)"
   ]
  },
  {
   "cell_type": "markdown",
   "metadata": {},
   "source": [
    "# 3. Callbacks"
   ]
  },
  {
   "cell_type": "code",
   "execution_count": 44,
   "metadata": {},
   "outputs": [],
   "source": [
    "def sqrt(x, guess=0.1):\n",
    "    print(\"Trying: \", guess, \"--Value:\", guess * guess)\n",
    "    if good_enough(guess, x):\n",
    "        return guess\n",
    "    \n",
    "    else:\n",
    "        guess = improve_guess(guess, x)\n",
    "        return sqrt(x, guess)"
   ]
  },
  {
   "cell_type": "code",
   "execution_count": 45,
   "metadata": {},
   "outputs": [],
   "source": [
    "def good_enough(guess, x):\n",
    "    if abs(guess * guess - x) < 1:\n",
    "        return True\n",
    "    else:\n",
    "        return False"
   ]
  },
  {
   "cell_type": "code",
   "execution_count": 46,
   "metadata": {},
   "outputs": [],
   "source": [
    "def avg(a, b):\n",
    "    return (a + b) / 2.0\n",
    "\n",
    "def improve_guess(guess, x):\n",
    "    return avg(guess, float(x) / guess)"
   ]
  },
  {
   "cell_type": "code",
   "execution_count": 47,
   "metadata": {},
   "outputs": [
    {
     "name": "stdout",
     "output_type": "stream",
     "text": [
      "Trying:  0.1 --Value: 0.010000000000000002\n",
      "Trying:  180.05 --Value: 32418.002500000002\n",
      "Trying:  90.12497222993613 --Value: 8122.510619446759\n",
      "Trying:  45.26220878399787 --Value: 2048.667544006214\n",
      "Trying:  23.028787149504215 --Value: 530.3250375771704\n",
      "Trying:  12.296023969924157 --Value: 151.19220546894942\n",
      "Trying:  7.611899827408357 --Value: 57.94101898249938\n",
      "Trying:  6.170668368771986 --Value: 38.07714811736313\n",
      "Trying:  6.002360173190208 --Value: 36.028327648699985\n"
     ]
    },
    {
     "data": {
      "text/plain": [
       "6.002360173190208"
      ]
     },
     "execution_count": 47,
     "metadata": {},
     "output_type": "execute_result"
    }
   ],
   "source": [
    "sqrt(36)"
   ]
  },
  {
   "cell_type": "code",
   "execution_count": 42,
   "metadata": {},
   "outputs": [],
   "source": [
    "def sqrt(x, is_ge=good_enough, guess=0.1):\n",
    "    print(\"Trying: \", guess, \"-- Value: \", guess * guess)\n",
    "    if is_ge(guess, x):\n",
    "        return guess\n",
    "    \n",
    "    else:\n",
    "        guess = improve_guess(guess, x)\n",
    "        return sqrt(x, is_ge, guess) "
   ]
  },
  {
   "cell_type": "code",
   "execution_count": 48,
   "metadata": {},
   "outputs": [],
   "source": [
    "def ver_accurate_good_enough(guess, x ):\n",
    "    return abs(guess * guess - x) < 0.000001"
   ]
  },
  {
   "cell_type": "markdown",
   "metadata": {},
   "source": [
    "### Callback\n",
    "\n",
    "- The variable is_ge is what is termed as a \"callback\" -- some function that you send to another piece of code. That piece of code calls the function back at a later point in time."
   ]
  }
 ],
 "metadata": {
  "kernelspec": {
   "display_name": "Python 3",
   "language": "python",
   "name": "python3"
  },
  "language_info": {
   "codemirror_mode": {
    "name": "ipython",
    "version": 3
   },
   "file_extension": ".py",
   "mimetype": "text/x-python",
   "name": "python",
   "nbconvert_exporter": "python",
   "pygments_lexer": "ipython3",
   "version": "3.5.4"
  }
 },
 "nbformat": 4,
 "nbformat_minor": 2
}
