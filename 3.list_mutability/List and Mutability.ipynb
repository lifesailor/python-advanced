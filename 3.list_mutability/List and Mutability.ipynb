{
 "cells": [
  {
   "cell_type": "markdown",
   "metadata": {},
   "source": [
    "## 1. List and Mutability"
   ]
  },
  {
   "cell_type": "code",
   "execution_count": 1,
   "metadata": {},
   "outputs": [
    {
     "name": "stdout",
     "output_type": "stream",
     "text": [
      "x =  34  y = 20\n"
     ]
    }
   ],
   "source": [
    "x = 34\n",
    "y = x\n",
    "y = 20\n",
    "print(\"x = \", x, \" y =\", y)"
   ]
  },
  {
   "cell_type": "code",
   "execution_count": 4,
   "metadata": {},
   "outputs": [
    {
     "name": "stdout",
     "output_type": "stream",
     "text": [
      "[['cat', 'kangaroo', 'horse'], ['tuna', 'shark', 'catfish']]\n"
     ]
    }
   ],
   "source": [
    "mammals = ['cat', 'kangaroo', 'horse']\n",
    "fish = ['tuna', 'shark', 'catfish']\n",
    "animals = [mammals, fish]\n",
    "print(animals)"
   ]
  },
  {
   "cell_type": "code",
   "execution_count": 7,
   "metadata": {},
   "outputs": [
    {
     "name": "stdout",
     "output_type": "stream",
     "text": [
      "['mule', 'kangaroo', 'horse']\n",
      "[['mule', 'kangaroo', 'horse'], ['tuna', 'shark', 'catfish']]\n"
     ]
    }
   ],
   "source": [
    "mammals[0] = 'mule'\n",
    "print(mammals)\n",
    "print(animals)"
   ]
  },
  {
   "cell_type": "markdown",
   "metadata": {},
   "source": [
    "- Visualize how lines are executed."
   ]
  },
  {
   "cell_type": "code",
   "execution_count": 8,
   "metadata": {},
   "outputs": [
    {
     "name": "stdout",
     "output_type": "stream",
     "text": [
      "mammals_2 =  ['dog', 'kangaroo', 'horse']\n",
      "mammals =  ['dog', 'kangaroo', 'horse']\n",
      "animals =  [['dog', 'kangaroo', 'horse'], ['tuna', 'shark', 'catfish']]\n"
     ]
    }
   ],
   "source": [
    "mammals_2 = mammals\n",
    "mammals_2[0] = 'dog'\n",
    "\n",
    "print(\"mammals_2 = \", mammals_2)\n",
    "print(\"mammals = \", mammals)\n",
    "print(\"animals = \", animals)"
   ]
  },
  {
   "cell_type": "markdown",
   "metadata": {},
   "source": [
    "## Copy 생성"
   ]
  },
  {
   "cell_type": "code",
   "execution_count": 9,
   "metadata": {},
   "outputs": [
    {
     "name": "stdout",
     "output_type": "stream",
     "text": [
      "mammals_3 =  ['mouse', 'kangaroo', 'horse']\n",
      "mammals =  ['dog', 'kangaroo', 'horse']\n",
      "animals =  [['dog', 'kangaroo', 'horse'], ['tuna', 'shark', 'catfish']]\n"
     ]
    }
   ],
   "source": [
    "# this creates a copy.\n",
    "mammals_3 = mammals[:]\n",
    "mammals_3[0] = 'mouse'\n",
    "print(\"mammals_3 = \", mammals_3)\n",
    "print(\"mammals = \", mammals)\n",
    "print('animals = ', animals)"
   ]
  },
  {
   "cell_type": "markdown",
   "metadata": {},
   "source": [
    "## 2. Shallow Copy"
   ]
  },
  {
   "cell_type": "code",
   "execution_count": 10,
   "metadata": {},
   "outputs": [
    {
     "name": "stdout",
     "output_type": "stream",
     "text": [
      "[['student 1', 'James', 'Brown'], ['student 2', 'Chris', 'Black'], ['student 3', 'Phil', 'Blue']]\n"
     ]
    }
   ],
   "source": [
    "s1 = ['student 1', 'James', 'Brown']\n",
    "s2 = ['student 2', 'Chris', 'Black']\n",
    "s3 = ['student 3', \"Phil\", \"Blue\"]\n",
    "\n",
    "students = [s1, s2, s3]\n",
    "print(students)"
   ]
  },
  {
   "cell_type": "code",
   "execution_count": 11,
   "metadata": {},
   "outputs": [
    {
     "name": "stdout",
     "output_type": "stream",
     "text": [
      "[['student 1', 'James', 'Brown'], ['student 2', 'Chris', 'Black'], ['student 3', 'Phil', 'Blue']]\n"
     ]
    }
   ],
   "source": [
    "students_copy = students[:]\n",
    "print(students_copy)"
   ]
  },
  {
   "cell_type": "code",
   "execution_count": 13,
   "metadata": {},
   "outputs": [
    {
     "name": "stdout",
     "output_type": "stream",
     "text": [
      "[['student1 changed', 'James', 'Brown'], ['student 2', 'Chris', 'Black'], ['student 3', 'Phil', 'Blue']]\n",
      "[['student1 changed', 'James', 'Brown'], ['student 2', 'Chris', 'Black'], ['student 3', 'Phil', 'Blue']]\n"
     ]
    }
   ],
   "source": [
    "students_copy[0][0] = 'student1 changed'\n",
    "print(students_copy)\n",
    "print(students)"
   ]
  },
  {
   "cell_type": "markdown",
   "metadata": {},
   "source": [
    "## 3. Deep Copy"
   ]
  },
  {
   "cell_type": "code",
   "execution_count": 14,
   "metadata": {},
   "outputs": [
    {
     "name": "stdout",
     "output_type": "stream",
     "text": [
      "[['student 1 chagned again', 'James', 'Brown'], ['student 2', 'Chris', 'Black'], ['student 3', 'Phil', 'Blue']]\n",
      "--------\n",
      "[['student1 changed', 'James', 'Brown'], ['student 2', 'Chris', 'Black'], ['student 3', 'Phil', 'Blue']]\n"
     ]
    }
   ],
   "source": [
    "import copy\n",
    "students_3 = copy.deepcopy(students)\n",
    "students_3[0][0] = \"student 1 chagned again\"\n",
    "\n",
    "print(students_3)\n",
    "print('--------')\n",
    "print(students)"
   ]
  },
  {
   "cell_type": "markdown",
   "metadata": {},
   "source": [
    "<img src=\"./deepcopy.png\">"
   ]
  },
  {
   "cell_type": "markdown",
   "metadata": {},
   "source": [
    "## 4. Passing lists as arguments"
   ]
  },
  {
   "cell_type": "code",
   "execution_count": 15,
   "metadata": {},
   "outputs": [],
   "source": [
    "def change_var(x):\n",
    "    x = x + 1\n",
    "    \n",
    "def change_list(lst):\n",
    "    lst.append(24)"
   ]
  },
  {
   "cell_type": "code",
   "execution_count": 16,
   "metadata": {},
   "outputs": [
    {
     "name": "stdout",
     "output_type": "stream",
     "text": [
      "25\n"
     ]
    }
   ],
   "source": [
    "x = 25\n",
    "change_var(x)\n",
    "print(x)"
   ]
  },
  {
   "cell_type": "code",
   "execution_count": 17,
   "metadata": {},
   "outputs": [
    {
     "name": "stdout",
     "output_type": "stream",
     "text": [
      "['student 2', 'Chris', 'Black']\n",
      "['student 2', 'Chris', 'Black', 24]\n"
     ]
    }
   ],
   "source": [
    "print(s2)\n",
    "change_list(s2)\n",
    "print(s2)"
   ]
  },
  {
   "cell_type": "markdown",
   "metadata": {},
   "source": [
    "- tuples are immutable \n",
    "- so that called functions are guaranteed to not change them."
   ]
  },
  {
   "cell_type": "markdown",
   "metadata": {},
   "source": [
    "## 5. Dictionary"
   ]
  },
  {
   "cell_type": "code",
   "execution_count": 24,
   "metadata": {},
   "outputs": [],
   "source": [
    "d1 = {'a': 1}\n",
    "d2 = {'b': 2}\n",
    "d3 = {'c': 3}\n",
    "\n",
    "import copy\n",
    "l1 = [d1, d2, d3]\n",
    "l2 = l1[:]"
   ]
  },
  {
   "cell_type": "code",
   "execution_count": 29,
   "metadata": {},
   "outputs": [
    {
     "name": "stdout",
     "output_type": "stream",
     "text": [
      "{'a': 2} {'a': 2}\n"
     ]
    }
   ],
   "source": [
    "l1[0]['a'] = 2\n",
    "print(l1[0], l2[0])"
   ]
  },
  {
   "cell_type": "code",
   "execution_count": 30,
   "metadata": {},
   "outputs": [],
   "source": [
    "l3 = copy.deepcopy(l1)"
   ]
  },
  {
   "cell_type": "code",
   "execution_count": 32,
   "metadata": {},
   "outputs": [
    {
     "name": "stdout",
     "output_type": "stream",
     "text": [
      "{'a': 3} {'a': 3} {'a': 2}\n"
     ]
    }
   ],
   "source": [
    "l1[0]['a'] = 3\n",
    "print(l1[0], l2[0], l3[0])"
   ]
  }
 ],
 "metadata": {
  "kernelspec": {
   "display_name": "Python 3",
   "language": "python",
   "name": "python3"
  },
  "language_info": {
   "codemirror_mode": {
    "name": "ipython",
    "version": 3
   },
   "file_extension": ".py",
   "mimetype": "text/x-python",
   "name": "python",
   "nbconvert_exporter": "python",
   "pygments_lexer": "ipython3",
   "version": "3.5.4"
  }
 },
 "nbformat": 4,
 "nbformat_minor": 2
}
