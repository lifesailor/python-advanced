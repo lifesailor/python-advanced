{
 "cells": [
  {
   "cell_type": "markdown",
   "metadata": {},
   "source": [
    "# 1. With"
   ]
  },
  {
   "cell_type": "markdown",
   "metadata": {},
   "source": [
    "- with는 context를 mark 한다. "
   ]
  },
  {
   "cell_type": "code",
   "execution_count": 3,
   "metadata": {},
   "outputs": [],
   "source": [
    "with open('dummy_file.txt', 'w') as f:\n",
    "    f.write(\"Hello world!\")"
   ]
  },
  {
   "cell_type": "code",
   "execution_count": 5,
   "metadata": {},
   "outputs": [],
   "source": [
    "import time\n",
    "\n",
    "def some_function():\n",
    "    time.sleep(1)"
   ]
  },
  {
   "cell_type": "markdown",
   "metadata": {},
   "source": [
    "### %time은 Jupyter notebook 에서만 사용 가능함"
   ]
  },
  {
   "cell_type": "code",
   "execution_count": 6,
   "metadata": {},
   "outputs": [
    {
     "name": "stdout",
     "output_type": "stream",
     "text": [
      "Wall time: 1 s\n"
     ]
    }
   ],
   "source": [
    "%time some_function()"
   ]
  },
  {
   "cell_type": "code",
   "execution_count": 7,
   "metadata": {},
   "outputs": [
    {
     "name": "stdout",
     "output_type": "stream",
     "text": [
      "Code took 1000 ms to run.\n"
     ]
    }
   ],
   "source": [
    "start_time = int(round(time.time() * 1000))\n",
    "some_function()\n",
    "end_time = int(round(time.time() * 1000))\n",
    "\n",
    "elapsed = end_time - start_time\n",
    "print(\"Code took %d ms to run.\" % elapsed)"
   ]
  },
  {
   "cell_type": "markdown",
   "metadata": {},
   "source": [
    "# 2. Context manager"
   ]
  },
  {
   "cell_type": "markdown",
   "metadata": {},
   "source": [
    "* Do something at startup (Record start time)\n",
    "* Perform some (unspecified) work\n",
    "* Do something at end (Report time elapsed) "
   ]
  },
  {
   "cell_type": "code",
   "execution_count": 8,
   "metadata": {},
   "outputs": [],
   "source": [
    "from contextlib import contextmanager  # import the decorator \n",
    "\n",
    "@contextmanager \n",
    "def timeit():\n",
    "    start_time = int(round(time.time() * 1000))\n",
    "\n",
    "    yield \n",
    "    \n",
    "    end_time = int(round(time.time() * 1000))\n",
    "    elapsed = end_time - start_time\n",
    "    print(\"Code took %d ms to run.\" % elapsed)"
   ]
  },
  {
   "cell_type": "markdown",
   "metadata": {},
   "source": [
    "with 블록은 부르면 timeit()을 호출하고\n",
    "- yield를 하고\n",
    "- some_function()을 하고\n",
    "- close 한다."
   ]
  },
  {
   "cell_type": "code",
   "execution_count": 9,
   "metadata": {},
   "outputs": [
    {
     "name": "stdout",
     "output_type": "stream",
     "text": [
      "Code took 1001 ms to run.\n"
     ]
    }
   ],
   "source": [
    "# timeit 함수를 닫는다\n",
    "with timeit():\n",
    "    some_function()"
   ]
  },
  {
   "cell_type": "code",
   "execution_count": 10,
   "metadata": {},
   "outputs": [],
   "source": [
    "def another_function():\n",
    "    time.sleep(0.5)"
   ]
  },
  {
   "cell_type": "code",
   "execution_count": 11,
   "metadata": {},
   "outputs": [
    {
     "name": "stdout",
     "output_type": "stream",
     "text": [
      "Code took 501 ms to run.\n"
     ]
    }
   ],
   "source": [
    "with timeit():\n",
    "    another_function()"
   ]
  },
  {
   "cell_type": "markdown",
   "metadata": {},
   "source": [
    "### Practice"
   ]
  },
  {
   "cell_type": "code",
   "execution_count": 25,
   "metadata": {},
   "outputs": [
    {
     "name": "stdout",
     "output_type": "stream",
     "text": [
      "Created temp directory: C:\\Users\\AP6D71~1\\AppData\\Local\\Temp\\8\\tmp7bfxcogm\n",
      "Opened file: C:\\Users\\AP6D71~1\\AppData\\Local\\Temp\\8\\tmp7bfxcogm\\somefile.txt\n",
      "Deleting directory: C:\\Users\\AP6D71~1\\AppData\\Local\\Temp\\8\\tmp7bfxcogm\n"
     ]
    }
   ],
   "source": [
    "import tempfile\n",
    "import shutil \n",
    "import os \n",
    "\n",
    "try: \n",
    "    name = tempfile.mkdtemp()\n",
    "    print(\"Created temp directory: %s\" % name) \n",
    "    \n",
    "    filename = os.path.join(name, \"somefile.txt\")\n",
    "    \n",
    "    # Do some processing \n",
    "    with open(filename, 'w') as f: \n",
    "        print(\"Opened file: %s\" % filename)\n",
    "        f.write(\"Dummy text\")\n",
    "\n",
    "            \n",
    "finally:\n",
    "    print(\"Deleting directory: %s\" % name)\n",
    "    shutil.rmtree(name)"
   ]
  },
  {
   "cell_type": "code",
   "execution_count": null,
   "metadata": {},
   "outputs": [],
   "source": [
    "@contextmanager\n",
    "def tempdir(filename):\n",
    "    try: \n",
    "        name = tempfile.mkdtemp()\n",
    "        print(\"Created temp directory: %s\" % name) \n",
    "\n",
    "        filename = os.path.join(name, \"somefile.txt\")\n",
    "\n",
    "        # Do some processing \n",
    "        with open(filename, 'w') as f: \n",
    "            print(\"Opened file: %s\" % filename)\n",
    "            yield f\n",
    "    finally:\n",
    "        print(\"Deleting directory: %s\" % name)\n",
    "        shutil.rmtree(name)        "
   ]
  },
  {
   "cell_type": "code",
   "execution_count": 51,
   "metadata": {},
   "outputs": [],
   "source": [
    "@contextmanager \n",
    "def tempdir(filename): \n",
    "    try: \n",
    "        name = tempfile.mkdtemp()\n",
    "        print(\"Created temp directory: %s\" % name) \n",
    "\n",
    "        filename = os.path.join(name, filename)\n",
    "\n",
    "        # Do some processing \n",
    "        with open(filename, 'w') as f: \n",
    "            print(\"Opened file: %s\" % filename)\n",
    "            yield f \n",
    "\n",
    "\n",
    "    finally:\n",
    "        print(\"Deleting directory: %s\" % name)\n",
    "        shutil.rmtree(name)"
   ]
  },
  {
   "cell_type": "code",
   "execution_count": 52,
   "metadata": {},
   "outputs": [
    {
     "name": "stdout",
     "output_type": "stream",
     "text": [
      "Created temp directory: C:\\Users\\AP6D71~1\\AppData\\Local\\Temp\\8\\tmpsc2lxlvz\n",
      "Opened file: C:\\Users\\AP6D71~1\\AppData\\Local\\Temp\\8\\tmpsc2lxlvz\\xyz.txt\n",
      "Deleting directory: C:\\Users\\AP6D71~1\\AppData\\Local\\Temp\\8\\tmpsc2lxlvz\n"
     ]
    }
   ],
   "source": [
    "with tempdir('xyz.txt') as f: \n",
    "    pass"
   ]
  }
 ],
 "metadata": {
  "kernelspec": {
   "display_name": "Python 3",
   "language": "python",
   "name": "python3"
  },
  "language_info": {
   "codemirror_mode": {
    "name": "ipython",
    "version": 3
   },
   "file_extension": ".py",
   "mimetype": "text/x-python",
   "name": "python",
   "nbconvert_exporter": "python",
   "pygments_lexer": "ipython3",
   "version": "3.5.4"
  }
 },
 "nbformat": 4,
 "nbformat_minor": 2
}
